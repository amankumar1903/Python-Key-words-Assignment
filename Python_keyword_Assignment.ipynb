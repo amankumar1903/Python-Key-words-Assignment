{
 "cells": [
  {
   "cell_type": "markdown",
   "metadata": {},
   "source": [
    "1. Explain the significance of Python keywords and provide examples of five keywords."
   ]
  },
  {
   "cell_type": "markdown",
   "metadata": {},
   "source": [
    "# Answer\n",
    "\n",
    "Significance:-----\n",
    "Python keywords are reserved words that have special meanings and functions in the Python programming language. They cannot be used as identifiers (like variable names) because they are part of the syntax. Keywords define the structure and syntax of the Python language.\n",
    "\n",
    "Examples:--- if, else, while, for, def."
   ]
  },
  {
   "cell_type": "markdown",
   "metadata": {},
   "source": [
    "2. Describe the rules for defining identifiers in Python and provide an example."
   ]
  },
  {
   "cell_type": "markdown",
   "metadata": {},
   "source": [
    "# Answer\n",
    "\n",
    "Rules:-----\n",
    "\n",
    ".Identifiers can be a combination of letters in lowercase (a-z) or uppercase (A-Z), digits (0-9), and underscores (_).\n",
    "\n",
    ".An identifier cannot start with a digit.\n",
    "\n",
    ".Python identifiers are case-sensitive.\n",
    "\n",
    ".Keywords cannot be used as identifiers.\n",
    "\n",
    "Example:--- my_variable, sum1, calculateTotal."
   ]
  },
  {
   "cell_type": "markdown",
   "metadata": {},
   "source": [
    "3. What are comments in Python, and why are they useful? Provide an example."
   ]
  },
  {
   "cell_type": "markdown",
   "metadata": {},
   "source": [
    "# Answer\n",
    "\n",
    "Comments:----\n",
    "\n",
    "Comments are lines in Python code that are not executed by the interpreter. They are used to explain the code and make it more understandable for others (or for the programmer at a later time). Comments start with the # symbol."
   ]
  },
  {
   "cell_type": "code",
   "execution_count": 2,
   "metadata": {},
   "outputs": [],
   "source": [
    "# This is a comment\n",
    "x = 5  # This is an inline comment\n"
   ]
  },
  {
   "cell_type": "markdown",
   "metadata": {},
   "source": [
    "4. Why is proper indentation important in Python?"
   ]
  },
  {
   "cell_type": "markdown",
   "metadata": {},
   "source": [
    "# Answer\n",
    "\n",
    "Importance:-----\n",
    "\n",
    " In Python, indentation is used to define the block of code associated with control structures such as loops, functions, classes, and conditionals. Unlike many other programming languages that use curly braces {} to delimit blocks of code, Python uses indentation, making it critical for defining the structure and flow of the program."
   ]
  },
  {
   "cell_type": "markdown",
   "metadata": {},
   "source": [
    "5. What happens if indentation is incorrect in Python?"
   ]
  },
  {
   "cell_type": "markdown",
   "metadata": {},
   "source": [
    "# Answer\n",
    "\n",
    "Incorrect Indentation:----\n",
    "\n",
    " If indentation is incorrect, Python will raise an IndentationError or SyntaxError. This can prevent the code from running or cause unexpected behavior, as Python relies on indentation to determine the grouping of statement\n"
   ]
  },
  {
   "cell_type": "markdown",
   "metadata": {},
   "source": [
    "6. Differentiate between expression and statement in Python with examples."
   ]
  },
  {
   "cell_type": "markdown",
   "metadata": {},
   "source": [
    "# Answer\n",
    "\n",
    "Expression:---\n",
    "\n",
    " An expression is a combination of variables, operators, and values that produces a result value. For example, 2 + 3 is an expression that evaluates to 5.\n",
    "\n",
    "Statement:----\n",
    "\n",
    " A statement is an instruction that the Python interpreter can execute. For example, x = 5 is a statement because it assigns the value 5 to the variable x."
   ]
  }
 ],
 "metadata": {
  "kernelspec": {
   "display_name": "Python 3",
   "language": "python",
   "name": "python3"
  },
  "language_info": {
   "codemirror_mode": {
    "name": "ipython",
    "version": 3
   },
   "file_extension": ".py",
   "mimetype": "text/x-python",
   "name": "python",
   "nbconvert_exporter": "python",
   "pygments_lexer": "ipython3",
   "version": "3.12.5"
  }
 },
 "nbformat": 4,
 "nbformat_minor": 2
}
